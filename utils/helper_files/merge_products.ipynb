{
 "cells": [
  {
   "cell_type": "code",
   "execution_count": 1,
   "metadata": {},
   "outputs": [],
   "source": [
    "import pandas as pd"
   ]
  },
  {
   "cell_type": "code",
   "execution_count": 2,
   "metadata": {},
   "outputs": [
    {
     "name": "stderr",
     "output_type": "stream",
     "text": [
      "C:\\Users\\GNG\\AppData\\Local\\Temp\\ipykernel_9964\\3328592936.py:2: DtypeWarning: Columns (10,11,12,13,14,15,16,19,30,34,35,36,38,39,45,46,48,49,50,51,52) have mixed types. Specify dtype option on import or set low_memory=False.\n",
      "  products_1 = pd.read_csv('products_data/products_export_1.csv')\n",
      "C:\\Users\\GNG\\AppData\\Local\\Temp\\ipykernel_9964\\3328592936.py:3: DtypeWarning: Columns (10,13,14,15,16,19,32,48,50,52) have mixed types. Specify dtype option on import or set low_memory=False.\n",
      "  products_2 = pd.read_csv('products_data/products_export_2.csv')\n",
      "C:\\Users\\GNG\\AppData\\Local\\Temp\\ipykernel_9964\\3328592936.py:4: DtypeWarning: Columns (10,13,14,15,19,32,33,34,35,36,38,39,45,46,48,49,50,51,52) have mixed types. Specify dtype option on import or set low_memory=False.\n",
      "  products_3 = pd.read_csv('products_data/products_export_3.csv')\n"
     ]
    },
    {
     "name": "stdout",
     "output_type": "stream",
     "text": [
      "Original shapes: Products 1: (42633, 67), Products 2: (34921, 67), Products 3: (26023, 67)\n",
      "Filtered shapes: Products 1: (7200, 67), Products 2: (5550, 67), Products 3: (4187, 67)\n",
      "Final merged shape: (16937, 67)\n"
     ]
    }
   ],
   "source": [
    "# Read all three CSV files\n",
    "products_1 = pd.read_csv('products_data/products_export_1.csv')\n",
    "products_2 = pd.read_csv('products_data/products_export_2.csv')\n",
    "products_3 = pd.read_csv('products_data/products_export_3.csv')\n",
    "\n",
    "# Filter each DataFrame to keep only rows where Image Position is 1.0\n",
    "filtered_1 = products_1[products_1['Image Position'] == 1.0]\n",
    "filtered_2 = products_2[products_2['Image Position'] == 1.0]\n",
    "filtered_3 = products_3[products_3['Image Position'] == 1.0]\n",
    "\n",
    "# Concatenate all filtered DataFrames\n",
    "merged_products = pd.concat([filtered_1, filtered_2, filtered_3], ignore_index=True)\n",
    "\n",
    "# Save the merged and filtered data to a new CSV file\n",
    "merged_products.to_csv('products_data/cleaned_products_list.csv', index=False)\n",
    "\n",
    "# Display the shape of the final DataFrame to verify the results\n",
    "print(f\"Original shapes: Products 1: {products_1.shape}, Products 2: {products_2.shape}, Products 3: {products_3.shape}\")\n",
    "print(f\"Filtered shapes: Products 1: {filtered_1.shape}, Products 2: {filtered_2.shape}, Products 3: {filtered_3.shape}\")\n",
    "print(f\"Final merged shape: {merged_products.shape}\")"
   ]
  },
  {
   "cell_type": "code",
   "execution_count": 11,
   "metadata": {},
   "outputs": [
    {
     "data": {
      "text/plain": [
       "np.int64(16592)"
      ]
     },
     "execution_count": 11,
     "metadata": {},
     "output_type": "execute_result"
    }
   ],
   "source": [
    "merged_products['Color (product.metafields.shopify.color-pattern)'].isnull().sum()"
   ]
  },
  {
   "cell_type": "code",
   "execution_count": 6,
   "metadata": {},
   "outputs": [
    {
     "name": "stderr",
     "output_type": "stream",
     "text": [
      "C:\\Users\\GNG\\AppData\\Local\\Temp\\ipykernel_3404\\4283426650.py:1: DtypeWarning: Columns (10,16,19,32,33,34,35,36,38,39,45,46,50) have mixed types. Specify dtype option on import or set low_memory=False.\n",
      "  cleaned_products = pd.read_csv('products_data/cleaned_products_list.csv')\n"
     ]
    },
    {
     "data": {
      "text/html": [
       "<div>\n",
       "<style scoped>\n",
       "    .dataframe tbody tr th:only-of-type {\n",
       "        vertical-align: middle;\n",
       "    }\n",
       "\n",
       "    .dataframe tbody tr th {\n",
       "        vertical-align: top;\n",
       "    }\n",
       "\n",
       "    .dataframe thead th {\n",
       "        text-align: right;\n",
       "    }\n",
       "</style>\n",
       "<table border=\"1\" class=\"dataframe\">\n",
       "  <thead>\n",
       "    <tr style=\"text-align: right;\">\n",
       "      <th></th>\n",
       "      <th>Handle</th>\n",
       "      <th>Title</th>\n",
       "      <th>Body (HTML)</th>\n",
       "      <th>Vendor</th>\n",
       "      <th>Product Category</th>\n",
       "      <th>Type</th>\n",
       "      <th>Tags</th>\n",
       "      <th>Published</th>\n",
       "      <th>Option1 Name</th>\n",
       "      <th>Option1 Value</th>\n",
       "      <th>...</th>\n",
       "      <th>Included / United Kingdom</th>\n",
       "      <th>Price / United Kingdom</th>\n",
       "      <th>Compare At Price / United Kingdom</th>\n",
       "      <th>Included / International</th>\n",
       "      <th>Price / International</th>\n",
       "      <th>Compare At Price / International</th>\n",
       "      <th>Included / Pakistan</th>\n",
       "      <th>Price / Pakistan</th>\n",
       "      <th>Compare At Price / Pakistan</th>\n",
       "      <th>Status</th>\n",
       "    </tr>\n",
       "  </thead>\n",
       "  <tbody>\n",
       "    <tr>\n",
       "      <th>6073</th>\n",
       "      <td>afrozeh-the-pinted-grden-lawn-24-midnight-muse</td>\n",
       "      <td>Afrozeh | The Pinted Grden Lawn 24 | Midnight ...</td>\n",
       "      <td>&lt;p&gt;LAWN EMBROIDERED FRONT CENTER PANEL (1 PC)&lt;...</td>\n",
       "      <td>Afrozeh</td>\n",
       "      <td>Apparel &amp; Accessories &gt; Clothing &gt; Traditional...</td>\n",
       "      <td>Luxury</td>\n",
       "      <td>Afrozeh, Afrozeh The Pinted Grden Lawn 24, Bla...</td>\n",
       "      <td>True</td>\n",
       "      <td>Size</td>\n",
       "      <td>XS</td>\n",
       "      <td>...</td>\n",
       "      <td>True</td>\n",
       "      <td>NaN</td>\n",
       "      <td>NaN</td>\n",
       "      <td>True</td>\n",
       "      <td>NaN</td>\n",
       "      <td>NaN</td>\n",
       "      <td>True</td>\n",
       "      <td>NaN</td>\n",
       "      <td>NaN</td>\n",
       "      <td>active</td>\n",
       "    </tr>\n",
       "    <tr>\n",
       "      <th>6527</th>\n",
       "      <td>afrozeh-chikankari-lawn-24-caviar</td>\n",
       "      <td>Afrozeh | Chikankari Lawn 24 | Caviar</td>\n",
       "      <td>&lt;p&gt;LAWN EMBROIDERED FRONT (0.97 M)&lt;br&gt;LAWN EMB...</td>\n",
       "      <td>Afrozeh</td>\n",
       "      <td>Apparel &amp; Accessories &gt; Clothing &gt; Traditional...</td>\n",
       "      <td>Luxury</td>\n",
       "      <td>Afrozeh, Afrozeh Chikankari Lawn 24, Black, La...</td>\n",
       "      <td>True</td>\n",
       "      <td>Size</td>\n",
       "      <td>XS</td>\n",
       "      <td>...</td>\n",
       "      <td>True</td>\n",
       "      <td>NaN</td>\n",
       "      <td>NaN</td>\n",
       "      <td>True</td>\n",
       "      <td>NaN</td>\n",
       "      <td>NaN</td>\n",
       "      <td>True</td>\n",
       "      <td>NaN</td>\n",
       "      <td>NaN</td>\n",
       "      <td>active</td>\n",
       "    </tr>\n",
       "  </tbody>\n",
       "</table>\n",
       "<p>2 rows × 67 columns</p>\n",
       "</div>"
      ],
      "text/plain": [
       "                                              Handle  \\\n",
       "6073  afrozeh-the-pinted-grden-lawn-24-midnight-muse   \n",
       "6527               afrozeh-chikankari-lawn-24-caviar   \n",
       "\n",
       "                                                  Title  \\\n",
       "6073  Afrozeh | The Pinted Grden Lawn 24 | Midnight ...   \n",
       "6527              Afrozeh | Chikankari Lawn 24 | Caviar   \n",
       "\n",
       "                                            Body (HTML)   Vendor  \\\n",
       "6073  <p>LAWN EMBROIDERED FRONT CENTER PANEL (1 PC)<...  Afrozeh   \n",
       "6527  <p>LAWN EMBROIDERED FRONT (0.97 M)<br>LAWN EMB...  Afrozeh   \n",
       "\n",
       "                                       Product Category    Type  \\\n",
       "6073  Apparel & Accessories > Clothing > Traditional...  Luxury   \n",
       "6527  Apparel & Accessories > Clothing > Traditional...  Luxury   \n",
       "\n",
       "                                                   Tags  Published  \\\n",
       "6073  Afrozeh, Afrozeh The Pinted Grden Lawn 24, Bla...       True   \n",
       "6527  Afrozeh, Afrozeh Chikankari Lawn 24, Black, La...       True   \n",
       "\n",
       "     Option1 Name Option1 Value  ... Included / United Kingdom  \\\n",
       "6073         Size            XS  ...                      True   \n",
       "6527         Size            XS  ...                      True   \n",
       "\n",
       "     Price / United Kingdom Compare At Price / United Kingdom  \\\n",
       "6073                    NaN                               NaN   \n",
       "6527                    NaN                               NaN   \n",
       "\n",
       "     Included / International Price / International  \\\n",
       "6073                     True                   NaN   \n",
       "6527                     True                   NaN   \n",
       "\n",
       "     Compare At Price / International Included / Pakistan Price / Pakistan  \\\n",
       "6073                              NaN                True              NaN   \n",
       "6527                              NaN                True              NaN   \n",
       "\n",
       "      Compare At Price / Pakistan  Status  \n",
       "6073                          NaN  active  \n",
       "6527                          NaN  active  \n",
       "\n",
       "[2 rows x 67 columns]"
      ]
     },
     "execution_count": 6,
     "metadata": {},
     "output_type": "execute_result"
    }
   ],
   "source": [
    "cleaned_products = pd.read_csv('products_data/cleaned_products_list.csv')\n",
    "cleaned_products=cleaned_products[cleaned_products['Color (product.metafields.shopify.color-pattern)'] == 'black']\n",
    "cleaned_products.head(2)"
   ]
  },
  {
   "cell_type": "code",
   "execution_count": 3,
   "metadata": {},
   "outputs": [
    {
     "name": "stderr",
     "output_type": "stream",
     "text": [
      "C:\\Users\\GNG\\AppData\\Local\\Temp\\ipykernel_1976\\2525415087.py:2: DtypeWarning: Columns (10,11,12,13,14,15,16,19,30,34,35,36,38,39,45,46,48,49,50,51,52) have mixed types. Specify dtype option on import or set low_memory=False.\n",
      "  products_1 = pd.read_csv('products_data/products_export_1.csv')\n",
      "C:\\Users\\GNG\\AppData\\Local\\Temp\\ipykernel_1976\\2525415087.py:3: DtypeWarning: Columns (10,13,14,15,16,19,32,48,50,52) have mixed types. Specify dtype option on import or set low_memory=False.\n",
      "  products_2 = pd.read_csv('products_data/products_export_2.csv')\n",
      "C:\\Users\\GNG\\AppData\\Local\\Temp\\ipykernel_1976\\2525415087.py:4: DtypeWarning: Columns (10,13,14,15,19,32,33,34,35,36,38,39,45,46,48,49,50,51,52) have mixed types. Specify dtype option on import or set low_memory=False.\n",
      "  products_3 = pd.read_csv('products_data/products_export_3.csv')\n"
     ]
    }
   ],
   "source": [
    "# Read all three CSV files\n",
    "products_1 = pd.read_csv('products_data/products_export_1.csv')\n",
    "products_2 = pd.read_csv('products_data/products_export_2.csv')\n",
    "products_3 = pd.read_csv('products_data/products_export_3.csv')\n",
    "\n",
    "#Save a merged Version of all.\n",
    "\n",
    "# Concatenate all filtered DataFrames\n",
    "merged_products_unfiltered = pd.concat([products_1,products_2,products_3], ignore_index=True)\n",
    "\n",
    "# Save the merged and filtered data to a new CSV file\n",
    "merged_products_unfiltered.to_csv('products_data/complete_products_list.csv', index=False)"
   ]
  },
  {
   "cell_type": "code",
   "execution_count": null,
   "metadata": {},
   "outputs": [],
   "source": []
  }
 ],
 "metadata": {
  "kernelspec": {
   "display_name": "rag_env",
   "language": "python",
   "name": "python3"
  },
  "language_info": {
   "codemirror_mode": {
    "name": "ipython",
    "version": 3
   },
   "file_extension": ".py",
   "mimetype": "text/x-python",
   "name": "python",
   "nbconvert_exporter": "python",
   "pygments_lexer": "ipython3",
   "version": "3.10.13"
  }
 },
 "nbformat": 4,
 "nbformat_minor": 2
}
